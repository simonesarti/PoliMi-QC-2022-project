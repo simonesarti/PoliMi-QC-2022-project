{
 "cells": [
  {
   "cell_type": "code",
   "execution_count": 65,
   "metadata": {},
   "outputs": [],
   "source": [
    "l2=[[0,0],[0,1],[1,0],[1,1]]\n",
    "l3=[[0,0,0],[0,0,1],[0,1,0],[0,1,1],[1,0,0],[1,0,1],[1,1,0],[1,1,1]]"
   ]
  },
  {
   "cell_type": "code",
   "execution_count": 66,
   "metadata": {},
   "outputs": [],
   "source": [
    "def to_num(bool):\n",
    "    if bool: \n",
    "        return 1\n",
    "    else: \n",
    "        return 0"
   ]
  },
  {
   "cell_type": "code",
   "execution_count": 67,
   "metadata": {},
   "outputs": [],
   "source": [
    "def XOR(a,b):\n",
    "    return (a and not b) or (not a and b)"
   ]
  },
  {
   "cell_type": "code",
   "execution_count": 68,
   "metadata": {},
   "outputs": [
    {
     "name": "stdout",
     "output_type": "stream",
     "text": [
      "[0, 0] --> 0\n",
      "[0, 1] --> 1\n",
      "[1, 0] --> 1\n",
      "[1, 1] --> 0\n"
     ]
    }
   ],
   "source": [
    "for elem in l2:\n",
    "    print(f\"{elem} --> {to_num(XOR(elem[0],elem[1]))}\")"
   ]
  },
  {
   "cell_type": "code",
   "execution_count": 69,
   "metadata": {},
   "outputs": [],
   "source": [
    "def X(a):\n",
    "    if a==1: return 0\n",
    "    if a==0: return 1"
   ]
  },
  {
   "cell_type": "code",
   "execution_count": 70,
   "metadata": {},
   "outputs": [],
   "source": [
    "def CNOT(a,b):\n",
    "    return a, XOR(a,b)"
   ]
  },
  {
   "cell_type": "code",
   "execution_count": 71,
   "metadata": {},
   "outputs": [
    {
     "name": "stdout",
     "output_type": "stream",
     "text": [
      "[0, 0] --> 0,0\n",
      "[0, 1] --> 0,1\n",
      "[1, 0] --> 1,1\n",
      "[1, 1] --> 1,0\n"
     ]
    }
   ],
   "source": [
    "for elem in l2:\n",
    "    a,b=CNOT(elem[0],elem[1])\n",
    "    print(f\"{elem} --> {to_num(a)},{to_num(b)}\")"
   ]
  },
  {
   "cell_type": "markdown",
   "metadata": {},
   "source": [
    "# CCNOT"
   ]
  },
  {
   "cell_type": "code",
   "execution_count": 72,
   "metadata": {},
   "outputs": [],
   "source": [
    "def CCNOT(a,b,c):\n",
    "    \n",
    "    return a,b, XOR((a and b),c)"
   ]
  },
  {
   "cell_type": "code",
   "execution_count": 73,
   "metadata": {},
   "outputs": [
    {
     "name": "stdout",
     "output_type": "stream",
     "text": [
      "[0, 0, 0] --> 0,0,0\n",
      "[0, 0, 1] --> 0,0,1\n",
      "[0, 1, 0] --> 0,1,0\n",
      "[0, 1, 1] --> 0,1,1\n",
      "[1, 0, 0] --> 1,0,0\n",
      "[1, 0, 1] --> 1,0,1\n",
      "[1, 1, 0] --> 1,1,1\n",
      "[1, 1, 1] --> 1,1,0\n"
     ]
    }
   ],
   "source": [
    "for elem in l3:\n",
    "    a,b,c=CCNOT(elem[0],elem[1],elem[2])\n",
    "    print(f\"{elem} --> {to_num(a)},{to_num(b)},{to_num(c)}\")"
   ]
  },
  {
   "cell_type": "markdown",
   "metadata": {},
   "source": [
    "# C_RC_NOT"
   ]
  },
  {
   "cell_type": "code",
   "execution_count": 74,
   "metadata": {},
   "outputs": [],
   "source": [
    "def C_RC_NOT(a,b,c):\n",
    "\n",
    "    return a,b, XOR((a and (not b)),c)"
   ]
  },
  {
   "cell_type": "code",
   "execution_count": 75,
   "metadata": {},
   "outputs": [
    {
     "name": "stdout",
     "output_type": "stream",
     "text": [
      "[0, 0, 0] --> 0,0,0\n",
      "[0, 0, 1] --> 0,0,1\n",
      "[0, 1, 0] --> 0,1,0\n",
      "[0, 1, 1] --> 0,1,1\n",
      "[1, 0, 0] --> 1,0,1\n",
      "[1, 0, 1] --> 1,0,0\n",
      "[1, 1, 0] --> 1,1,0\n",
      "[1, 1, 1] --> 1,1,1\n"
     ]
    }
   ],
   "source": [
    "for elem in l3:\n",
    "    a,b,c=C_RC_NOT(elem[0],elem[1],elem[2])\n",
    "    print(f\"{elem} --> {to_num(a)},{to_num(b)},{to_num(c)}\")"
   ]
  },
  {
   "cell_type": "markdown",
   "metadata": {},
   "source": [
    "#### proof equal to X(b) + CCNOT+ X(b)"
   ]
  },
  {
   "cell_type": "code",
   "execution_count": 76,
   "metadata": {},
   "outputs": [],
   "source": [
    "def c_rc_not(a,b,c):\n",
    "    \n",
    "    b=X(b)\n",
    "    a,b,c=CCNOT(a,b,c)\n",
    "    b=X(b)\n",
    "    \n",
    "    return a,b,c"
   ]
  },
  {
   "cell_type": "code",
   "execution_count": 77,
   "metadata": {},
   "outputs": [
    {
     "name": "stdout",
     "output_type": "stream",
     "text": [
      "[0, 0, 0] --> 0,0,0\n",
      "[0, 0, 1] --> 0,0,1\n",
      "[0, 1, 0] --> 0,1,0\n",
      "[0, 1, 1] --> 0,1,1\n",
      "[1, 0, 0] --> 1,0,1\n",
      "[1, 0, 1] --> 1,0,0\n",
      "[1, 1, 0] --> 1,1,0\n",
      "[1, 1, 1] --> 1,1,1\n"
     ]
    }
   ],
   "source": [
    "for elem in l3:\n",
    "    a,b,c=c_rc_not(elem[0],elem[1],elem[2])\n",
    "    print(f\"{elem} --> {to_num(a)},{to_num(b)},{to_num(c)}\")"
   ]
  },
  {
   "cell_type": "markdown",
   "metadata": {},
   "source": [
    "# RC_C_NOT"
   ]
  },
  {
   "cell_type": "code",
   "execution_count": 78,
   "metadata": {},
   "outputs": [],
   "source": [
    "def RC_C_NOT(a,b,c):\n",
    "\n",
    "    return a,b,XOR(((not a) and b),c)"
   ]
  },
  {
   "cell_type": "code",
   "execution_count": 79,
   "metadata": {},
   "outputs": [
    {
     "name": "stdout",
     "output_type": "stream",
     "text": [
      "[0, 0, 0] --> 0,0,0\n",
      "[0, 0, 1] --> 0,0,1\n",
      "[0, 1, 0] --> 0,1,1\n",
      "[0, 1, 1] --> 0,1,0\n",
      "[1, 0, 0] --> 1,0,0\n",
      "[1, 0, 1] --> 1,0,1\n",
      "[1, 1, 0] --> 1,1,0\n",
      "[1, 1, 1] --> 1,1,1\n"
     ]
    }
   ],
   "source": [
    "for elem in l3:\n",
    "    a,b,c=RC_C_NOT(elem[0],elem[1],elem[2])\n",
    "    print(f\"{elem} --> {to_num(a)},{to_num(b)},{to_num(c)}\")"
   ]
  },
  {
   "cell_type": "markdown",
   "metadata": {},
   "source": [
    "#### proof equal to X(a) + CCNOT+ X(a)"
   ]
  },
  {
   "cell_type": "code",
   "execution_count": 80,
   "metadata": {},
   "outputs": [],
   "source": [
    "def rc_c_not(a,b,c):\n",
    "    \n",
    "    a=X(a)\n",
    "    a,b,c=CCNOT(a,b,c)\n",
    "    a=X(a)\n",
    "    \n",
    "    return a,b,c"
   ]
  },
  {
   "cell_type": "code",
   "execution_count": 81,
   "metadata": {},
   "outputs": [
    {
     "name": "stdout",
     "output_type": "stream",
     "text": [
      "[0, 0, 0] --> 0,0,0\n",
      "[0, 0, 1] --> 0,0,1\n",
      "[0, 1, 0] --> 0,1,1\n",
      "[0, 1, 1] --> 0,1,0\n",
      "[1, 0, 0] --> 1,0,0\n",
      "[1, 0, 1] --> 1,0,1\n",
      "[1, 1, 0] --> 1,1,0\n",
      "[1, 1, 1] --> 1,1,1\n"
     ]
    }
   ],
   "source": [
    "for elem in l3:\n",
    "    a,b,c=rc_c_not(elem[0],elem[1],elem[2])\n",
    "    print(f\"{elem} --> {to_num(a)},{to_num(b)},{to_num(c)}\")"
   ]
  },
  {
   "cell_type": "markdown",
   "metadata": {},
   "source": [
    "# CSWAP"
   ]
  },
  {
   "cell_type": "code",
   "execution_count": 84,
   "metadata": {},
   "outputs": [],
   "source": [
    "def CSWAP(a,b,c):\n",
    "    \n",
    "    a1,b1=CNOT(a,b)\n",
    "    c2,b2,a2=CCNOT(c,b1,a1)\n",
    "    a3,b3=CNOT(a2,b2)\n",
    "\n",
    "    return a3,b3,c2\n"
   ]
  },
  {
   "cell_type": "code",
   "execution_count": 85,
   "metadata": {},
   "outputs": [
    {
     "name": "stdout",
     "output_type": "stream",
     "text": [
      "[0, 0, 0] --> 0,0,0\n",
      "[0, 0, 1] --> 0,0,1\n",
      "[0, 1, 0] --> 0,1,0\n",
      "[0, 1, 1] --> 1,0,1\n",
      "[1, 0, 0] --> 1,0,0\n",
      "[1, 0, 1] --> 0,1,1\n",
      "[1, 1, 0] --> 1,1,0\n",
      "[1, 1, 1] --> 1,1,1\n"
     ]
    }
   ],
   "source": [
    "for elem in l3:\n",
    "    a,b,c=CSWAP(elem[0],elem[1],elem[2])\n",
    "    print(f\"{elem} --> {to_num(a)},{to_num(b)},{to_num(c)}\")"
   ]
  },
  {
   "cell_type": "markdown",
   "metadata": {},
   "source": [
    "# COMP(0)"
   ]
  },
  {
   "cell_type": "code",
   "execution_count": 86,
   "metadata": {},
   "outputs": [],
   "source": [
    "def comp0(q1,q0,m):\n",
    "\n",
    "    q1,q0,m=c_rc_not(q1,q0,m)\n",
    "    q1,q0,m=CSWAP(q1,q0,m)\n",
    "    q1,q0,m=rc_c_not(q1,q0,m)\n",
    "    return q1,q0,m"
   ]
  },
  {
   "cell_type": "code",
   "execution_count": 94,
   "metadata": {},
   "outputs": [
    {
     "name": "stdout",
     "output_type": "stream",
     "text": [
      "MIN-MAX\n",
      " q1,q0,m  --> q1,q0,m\n",
      "[0, 0, 0] --> 0, 0, 0\n",
      "[0, 0, 1] --> 0, 0, 1\n",
      "[0, 1, 0] --> 0, 1, 1\n",
      "[0, 1, 1] --> 1, 0, 1\n",
      "[1, 0, 0] --> 0, 1, 0\n",
      "[1, 0, 1] --> 1, 0, 0\n",
      "[1, 1, 0] --> 1, 1, 0\n",
      "[1, 1, 1] --> 1, 1, 1\n"
     ]
    }
   ],
   "source": [
    "print(\"MIN-MAX\")\n",
    "print(\" q1,q0,m  --> q1,q0,m\")\n",
    "for elem in l3:\n",
    "    q1,q0,m=comp0(elem[0],elem[1],elem[2])\n",
    "    print(f\"{elem} --> {to_num(q1)}, {to_num(q0)}, {to_num(m)}\")"
   ]
  },
  {
   "cell_type": "markdown",
   "metadata": {},
   "source": [
    "# COMP(1)"
   ]
  },
  {
   "cell_type": "code",
   "execution_count": 95,
   "metadata": {},
   "outputs": [],
   "source": [
    "def comp1(q1,q0,m):\n",
    "\n",
    "    q1,q0,m=c_rc_not(q1,q0,m)\n",
    "    q1,q0,m=CSWAP(q1,q0,m)\n",
    "    q1,q0,m=c_rc_not(q1,q0,m)\n",
    "    return q1,q0,m"
   ]
  },
  {
   "cell_type": "code",
   "execution_count": 96,
   "metadata": {},
   "outputs": [
    {
     "name": "stdout",
     "output_type": "stream",
     "text": [
      "MAX-MIN\n",
      " q1,q0,m  --> q1,q0,m\n",
      "[0, 0, 0] --> 0, 0, 0\n",
      "[0, 0, 1] --> 0, 0, 1\n",
      "[0, 1, 0] --> 0, 1, 0\n",
      "[0, 1, 1] --> 1, 0, 0\n",
      "[1, 0, 0] --> 0, 1, 1\n",
      "[1, 0, 1] --> 1, 0, 1\n",
      "[1, 1, 0] --> 1, 1, 0\n",
      "[1, 1, 1] --> 1, 1, 1\n"
     ]
    }
   ],
   "source": [
    "print(\"MAX-MIN\")\n",
    "print(\" q1,q0,m  --> q1,q0,m\")\n",
    "for elem in l3:\n",
    "    q1,q0,m=comp1(elem[0],elem[1],elem[2])\n",
    "    print(f\"{elem} --> {to_num(q1)}, {to_num(q0)}, {to_num(m)}\")"
   ]
  }
 ],
 "metadata": {
  "interpreter": {
   "hash": "d12e26f72a40d5c48233c54861fca038d6a92135fc0e5e920944e69c69b6b29d"
  },
  "kernelspec": {
   "display_name": "Python 3.8.8 ('base')",
   "language": "python",
   "name": "python3"
  },
  "language_info": {
   "codemirror_mode": {
    "name": "ipython",
    "version": 3
   },
   "file_extension": ".py",
   "mimetype": "text/x-python",
   "name": "python",
   "nbconvert_exporter": "python",
   "pygments_lexer": "ipython3",
   "version": "3.8.8"
  },
  "orig_nbformat": 4
 },
 "nbformat": 4,
 "nbformat_minor": 2
}
